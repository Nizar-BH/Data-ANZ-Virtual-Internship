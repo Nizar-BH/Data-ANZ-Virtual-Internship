{
 "cells": [
  {
   "cell_type": "markdown",
   "id": "ad1d9340",
   "metadata": {
    "cell_id": "427f809b-a81c-4f26-98ac-6573ca2191d5",
    "deepnote_cell_height": 82,
    "deepnote_cell_type": "markdown"
   },
   "source": [
    "# Exploratory Data Analysis"
   ]
  },
  {
   "cell_type": "code",
   "execution_count": null,
   "id": "050f4beb",
   "metadata": {
    "cell_id": "00001-9e0ebb01-f5a9-4158-9c62-f5f4fc58ffbf",
    "deepnote_cell_height": 153,
    "deepnote_cell_type": "code",
    "deepnote_to_be_reexecuted": false,
    "execution_millis": 2650,
    "execution_start": 1650398292204,
    "source_hash": "33d14484"
   },
   "outputs": [],
   "source": [
    "import pandas as pd\n",
    "import seaborn as sns\n",
    "import plotly.express as px\n",
    "import matplotlib.pyplot as plt\n",
    "import numpy as np"
   ]
  },
  {
   "cell_type": "code",
   "execution_count": null,
   "id": "887e84f7",
   "metadata": {
    "cell_id": "00002-28aa3db4-de7e-4896-89ba-c6cf8e3ac443",
    "deepnote_cell_height": 81,
    "deepnote_cell_type": "code",
    "deepnote_to_be_reexecuted": false,
    "execution_millis": 3,
    "execution_start": 1650398294865,
    "source_hash": "42a7677d"
   },
   "outputs": [],
   "source": [
    " #pip install plotly"
   ]
  },
  {
   "cell_type": "code",
   "execution_count": null,
   "id": "693dded7",
   "metadata": {
    "cell_id": "4c93aab4e06346df970e206e6009e5a3",
    "deepnote_cell_height": 81,
    "deepnote_cell_type": "code",
    "deepnote_to_be_reexecuted": false,
    "execution_millis": 5,
    "execution_start": 1650398294879,
    "source_hash": "e62b789e",
    "tags": []
   },
   "outputs": [],
   "source": [
    "#pip install openpyxl"
   ]
  },
  {
   "cell_type": "code",
   "execution_count": null,
   "id": "b28517f5",
   "metadata": {
    "cell_id": "00003-8f6d3fc8-043b-48ff-aef8-9e9c0e6ffeb6",
    "deepnote_cell_height": 81,
    "deepnote_cell_type": "code",
    "deepnote_to_be_reexecuted": false,
    "execution_millis": 7492,
    "execution_start": 1650398294899,
    "source_hash": "891cf75f"
   },
   "outputs": [],
   "source": [
    "df = pd.read_excel(\"ANZ synthesised transaction dataset.xlsx\")"
   ]
  },
  {
   "cell_type": "code",
   "execution_count": null,
   "id": "d23d175f",
   "metadata": {
    "cell_id": "00004-140ac248-8fc5-4164-8c58-1639efc0aeda",
    "deepnote_cell_height": 99,
    "deepnote_cell_type": "code",
    "deepnote_to_be_reexecuted": false,
    "execution_millis": 477785,
    "execution_start": 1650398302411,
    "source_hash": "2a102a50"
   },
   "outputs": [],
   "source": [
    "pd.set_option('display.max_columns',None)\n",
    "pd.set_option('display.max_rows',None)"
   ]
  },
  {
   "cell_type": "code",
   "execution_count": null,
   "id": "44b9946e",
   "metadata": {
    "cell_id": "00005-b31de84a-7c1e-4a09-83ee-7e97e08bd19d",
    "deepnote_cell_height": 616.796875,
    "deepnote_cell_type": "code",
    "deepnote_to_be_reexecuted": false,
    "execution_millis": 214,
    "execution_start": 1650398302422,
    "scrolled": true,
    "source_hash": "3c3aec6e"
   },
   "outputs": [],
   "source": [
    "df.head(50)"
   ]
  },
  {
   "cell_type": "code",
   "execution_count": null,
   "id": "2f69340f",
   "metadata": {
    "cell_id": "00006-c6e3ad7e-9fc2-4fdf-bee6-827e7b66b6db",
    "deepnote_cell_height": 616.796875,
    "deepnote_cell_type": "code",
    "deepnote_to_be_reexecuted": false,
    "execution_millis": 121,
    "execution_start": 1650398302638,
    "source_hash": "6efb600e"
   },
   "outputs": [],
   "source": [
    "df.loc[(df['first_name']=='Jeffrey') & (df['txn_description']=='PAY/SALARY')]"
   ]
  },
  {
   "cell_type": "code",
   "execution_count": null,
   "id": "425a1fde",
   "metadata": {
    "cell_id": "00007-2f7b84b8-7cd1-4a43-9ab4-ea979f04ebc8",
    "deepnote_cell_height": 137.375,
    "deepnote_cell_type": "code",
    "deepnote_to_be_reexecuted": false,
    "execution_millis": 477810,
    "execution_start": 1650398302762,
    "source_hash": "ad8759b7"
   },
   "outputs": [],
   "source": [
    "df['txn_description'].unique()"
   ]
  },
  {
   "cell_type": "code",
   "execution_count": null,
   "id": "1c798a41",
   "metadata": {
    "cell_id": "00008-9ec925f0-4a0d-4100-a80b-85b93d764d06",
    "deepnote_cell_height": 518,
    "deepnote_cell_type": "code",
    "deepnote_to_be_reexecuted": false,
    "execution_millis": 49,
    "execution_start": 1650398302773,
    "source_hash": "f88152d9"
   },
   "outputs": [],
   "source": [
    "df.describe()"
   ]
  },
  {
   "cell_type": "code",
   "execution_count": null,
   "id": "f2e9f0c2",
   "metadata": {
    "cell_id": "00009-4cc1f325-42f8-42d4-ae55-397cac75f956",
    "deepnote_cell_height": 118.1875,
    "deepnote_cell_type": "code",
    "deepnote_to_be_reexecuted": false,
    "execution_millis": 477763,
    "execution_start": 1650398302833,
    "source_hash": "14f60b8f"
   },
   "outputs": [],
   "source": [
    "df.shape"
   ]
  },
  {
   "cell_type": "code",
   "execution_count": null,
   "id": "736ab3a4",
   "metadata": {
    "cell_id": "00010-079260ca-dc22-4dc7-b620-451edc5285fb",
    "deepnote_cell_height": 559.78125,
    "deepnote_cell_type": "code",
    "deepnote_to_be_reexecuted": false,
    "execution_millis": 22,
    "execution_start": 1650398302847,
    "source_hash": "d794f466"
   },
   "outputs": [],
   "source": [
    "df.isna().sum()"
   ]
  },
  {
   "cell_type": "code",
   "execution_count": null,
   "id": "6c4cc1f0",
   "metadata": {
    "cell_id": "00011-8ae423ec-1609-46d0-b426-a9bbb27ce7fb",
    "deepnote_cell_height": 118.1875,
    "deepnote_cell_type": "code",
    "deepnote_to_be_reexecuted": false,
    "execution_millis": 2,
    "execution_start": 1650398302876,
    "source_hash": "7513cc44"
   },
   "outputs": [],
   "source": [
    "len(df['first_name'].unique())"
   ]
  },
  {
   "cell_type": "code",
   "execution_count": null,
   "id": "f9219c5a",
   "metadata": {
    "cell_id": "00012-31d54c40-8e30-4841-a0a0-421bb7ba8834",
    "deepnote_cell_height": 118.1875,
    "deepnote_cell_type": "code",
    "deepnote_to_be_reexecuted": false,
    "execution_millis": 477755,
    "execution_start": 1650398302893,
    "source_hash": "baad9618"
   },
   "outputs": [],
   "source": [
    "df['merchant_code'].values"
   ]
  },
  {
   "cell_type": "markdown",
   "id": "a9a38c33",
   "metadata": {
    "cell_id": "00013-f84cf6df-110d-47a6-824a-76138efb6726",
    "deepnote_cell_height": 394.796875,
    "deepnote_cell_type": "markdown"
   },
   "source": [
    "<div class=\"alert alert-block alert-success\">\n",
    "    Exploring our data brings us to the following  :\n",
    "    <ul>\n",
    "        <b><li> We have a dataset with a considerable shape of over twelve thousand rows</li></b>\n",
    "        <li>\n",
    "        <ul> we notice that there is a lot of missing data in the following columns : \n",
    "           <li> card_present_flag : 4326 missing values</li>\n",
    "            <li>bpay_biller_code  : 11158 missing values</li>\n",
    "           <li> merchant_id :4326 missing values</li>\n",
    "           <li> merchant_suburb : 4326 missing values</li>\n",
    "           <li> merchant_state : 4326 missing values</li>\n",
    "            <li>merchant_long_lat : 4326 missing values<li>\n",
    "        </ul>\n",
    "        </li>\n",
    "        <b><li> An average of amount equal to 187.93 and an average of balance equal to 14704.19</li></b>\n",
    "        <b><li> We can also notice that the average age is around 30 </li></b>\n",
    "    </ul>\n",
    "</div >"
   ]
  },
  {
   "cell_type": "code",
   "execution_count": null,
   "id": "2b4aae50",
   "metadata": {
    "cell_id": "00014-5a743231-6f1e-4e15-87f3-0cf64bcbd5d6",
    "deepnote_cell_height": 81,
    "deepnote_cell_type": "code",
    "deepnote_to_be_reexecuted": false,
    "execution_millis": 477744,
    "execution_start": 1650398302909,
    "source_hash": "b088c67a"
   },
   "outputs": [],
   "source": [
    "sns.set(rc={'figure.figsize':(30,15)})"
   ]
  },
  {
   "cell_type": "code",
   "execution_count": null,
   "id": "290668e3",
   "metadata": {
    "cell_id": "00015-a85854d4-fbce-451f-8673-493ee8f8def4",
    "deepnote_cell_height": 642,
    "deepnote_cell_type": "code",
    "deepnote_to_be_reexecuted": false,
    "execution_millis": 3703,
    "execution_start": 1650398302937,
    "scrolled": true,
    "source_hash": "1d394f2c"
   },
   "outputs": [],
   "source": [
    "fig = px.histogram(df, x=\"txn_description\")\n",
    "fig.show()"
   ]
  },
  {
   "cell_type": "markdown",
   "id": "741a09dd",
   "metadata": {
    "cell_id": "00016-e312a644-c7c3-4fb2-9775-01afae1093dc",
    "deepnote_cell_height": 224.796875,
    "deepnote_cell_type": "markdown"
   },
   "source": [
    "<div class=\"alert alert-block alert-info\">\n",
    "    as we can see we have 6 types of transactions <br>\n",
    "    POS transactions with a total of 3783<br>\n",
    "    Sales-POS transactions with a total of 3934<br>\n",
    "    Payment transactions with a total of 2600 <br>\n",
    "    Inter Bank transactions with a total of 742<br>\n",
    "    Salary transactions with a total of 883<br>\n",
    "    Phone bank transactions with a total of 101<br>\n",
    "</div >"
   ]
  },
  {
   "cell_type": "code",
   "execution_count": null,
   "id": "8346656d",
   "metadata": {
    "cell_id": "00017-b0fed76f-22c4-4678-9eb7-fad241201e92",
    "deepnote_cell_height": 81,
    "deepnote_cell_type": "code",
    "deepnote_to_be_reexecuted": false,
    "execution_millis": 477808,
    "execution_start": 1650398305020,
    "scrolled": false,
    "source_hash": "b19103c8"
   },
   "outputs": [],
   "source": [
    "sns.jointplot(data=df, x=\"balance\", y=\"amount\",hue=\"age\")"
   ]
  },
  {
   "cell_type": "markdown",
   "id": "5a7ec0fd",
   "metadata": {
    "cell_id": "00018-a1ad2117-1595-4b21-8456-5005b9ee19d9",
    "deepnote_cell_height": 156,
    "deepnote_cell_type": "markdown"
   },
   "source": [
    "through this graph we are able to deduct that there is a condensation of transactions with an amount higher than the current balance in the range of 0-20000 and mostly by individuals with ages ranging from 20 to 40 years.\n",
    "\n",
    "We are able to also notice the presence of outliers precisely in the transactions with very low amounts compared to very high balance values over 200000. this outliers presence is also noticed in exactly 4 transactions with amounts close to 9000 and with individuals having a balance close to 100000 with ages equal to 40."
   ]
  },
  {
   "cell_type": "code",
   "execution_count": null,
   "id": "654e50b7",
   "metadata": {
    "cell_id": "00019-03fdce14-3c02-4089-9227-a942d1fc5c11",
    "deepnote_cell_height": 81,
    "deepnote_cell_type": "code",
    "deepnote_to_be_reexecuted": false,
    "execution_millis": 475661,
    "execution_start": 1650398305057,
    "scrolled": false,
    "source_hash": "13d2b821"
   },
   "outputs": [],
   "source": [
    "sns.pairplot(data=df, hue=\"movement\")"
   ]
  },
  {
   "cell_type": "markdown",
   "id": "2378325c",
   "metadata": {
    "cell_id": "00020-75bd900f-30c2-4aef-b275-5646e534ec14",
    "deepnote_cell_height": 247.796875,
    "deepnote_cell_type": "markdown"
   },
   "source": [
    "<div class=\"alert alert-block alert-info\">\n",
    "    <b>the pair plot above gives us the following insights with respect to movement</b>  \n",
    "    <ul>\n",
    "        <li> when it comes to the the balance and amount we can notice that low amount transactions are made through debit movement whereas high amount transactions are made through debit</li>\n",
    "        <li>Looking at the balance and age we can clearly notice the dominance of debit transactions</li>\n",
    "        <li>now if we take a loot at the age and the amount we notice that the individuals with ages under 25 have a varied transactions amount reaching up to 4000 whereas between 25 and 50 the density of the amounts is under 2000 and all of this is with respect to the outliers exactly at the age of 40 reaching up to amounts of 8000</li>\n",
    "    </ul>\n",
    "</div >"
   ]
  },
  {
   "cell_type": "markdown",
   "id": "ca4c2630",
   "metadata": {
    "cell_id": "00021-4587d69f-28e5-42f8-80ab-ac43a692f8c8",
    "deepnote_cell_height": 46,
    "deepnote_cell_type": "markdown"
   },
   "source": []
  },
  {
   "cell_type": "code",
   "execution_count": null,
   "id": "c96892f8",
   "metadata": {
    "cell_id": "00022-acb5d76e-ce9e-4b61-aa3f-2f64d153ac11",
    "deepnote_cell_height": 641,
    "deepnote_cell_type": "code",
    "deepnote_to_be_reexecuted": false,
    "execution_millis": 457708,
    "execution_start": 1650398305077,
    "scrolled": true,
    "source_hash": "f07fcb4c"
   },
   "outputs": [],
   "source": [
    "fig = px.density_heatmap(df, x=\"amount\", y=\"merchant_state\",text_auto=True)\n",
    "fig.show()"
   ]
  },
  {
   "cell_type": "markdown",
   "id": "f51fff7d",
   "metadata": {
    "cell_id": "00023-c6931523-9d4b-40d2-9a85-8b287914b6f0",
    "deepnote_cell_height": 135.1875,
    "deepnote_cell_type": "markdown"
   },
   "source": [
    "<div class=\"alert alert-block alert-info\">\n",
    "    this density heat map shows us the correlation between the amount of the transactions compared to the merchants state. The density of the amount is mainly in the<b>  VIC and the NSW state with over 2000 transactions followed by the QLD state then WA state and finally the SA state by a total number of 397 transactions</b>\n",
    "</div >"
   ]
  },
  {
   "cell_type": "code",
   "execution_count": null,
   "id": "64af5a19",
   "metadata": {
    "cell_id": "00024-66a404c8-7c5f-4159-90fb-350a802286f3",
    "deepnote_cell_height": 732,
    "deepnote_cell_type": "code",
    "deepnote_to_be_reexecuted": false,
    "execution_millis": 1786,
    "execution_start": 1650398305086,
    "source_hash": "ca10aec3"
   },
   "outputs": [],
   "source": [
    "fig = px.histogram(df, x=\"date\",color=\"gender\")\n",
    "fig.update_layout(\n",
    "    bargap=0.2, \n",
    "    bargroupgap=0.1 \n",
    ")\n",
    "fig.show()\n"
   ]
  },
  {
   "cell_type": "markdown",
   "id": "a5362253",
   "metadata": {
    "cell_id": "00025-2b7b0b30-0294-4ba1-ba18-4fa73861e816",
    "deepnote_cell_height": 157.578125,
    "deepnote_cell_type": "markdown"
   },
   "source": [
    "<div class=\"alert alert-block alert-info\">\n",
    "    <b> Lets take a loot at the number of transactions in each month </b>\n",
    "    <br>\n",
    "    <p>looking at the histogram we notice a more or less an equality of the transactions made by each gender in every month as well as a close number of transactions from august to october over 200 except for august 19 we can notice a drop of 140 transactions  </p>\n",
    "</div >"
   ]
  },
  {
   "cell_type": "code",
   "execution_count": null,
   "id": "770fdfec",
   "metadata": {
    "cell_id": "00026-ab0b9bae-e126-4752-bfdf-b5e234338c9a",
    "deepnote_cell_height": 590,
    "deepnote_cell_type": "code",
    "deepnote_to_be_reexecuted": false,
    "execution_millis": 458736,
    "execution_start": 1650398306715,
    "source_hash": "fc72fac8"
   },
   "outputs": [],
   "source": [
    "sns.relplot(x=\"balance\", y=\"merchant_state\", hue=\"gender\", size=\"balance\",\n",
    "           sizes=(40, 400), alpha=.5, palette=\"muted\",\n",
    "           height=6, data=df)"
   ]
  },
  {
   "cell_type": "markdown",
   "id": "9a24ced0",
   "metadata": {
    "cell_id": "00027-54ef3405-f6d3-47a6-bede-871c95d8b437",
    "deepnote_cell_height": 180,
    "deepnote_cell_type": "markdown"
   },
   "source": [
    "<div class=\"alert alert-block alert-info\">\n",
    "    <b> Lets take a look at the density of the balances in each state </b>\n",
    "    <br>\n",
    "    <p>looking at the plot we can clearly see that the density of the balances is ranginge from 0 to 70000 in the <b> WA ,SA,VIC,NSW and QLD</b>\n",
    "        states. now if we look at merchants with high balances we will notice this presence mainly in the VIC and NSW states with balances ranging from 180000 to over 250000. this condensation of balances explains the amount of transactions madei n the VIC and WA states\n",
    "    </p>\n",
    "</div >"
   ]
  },
  {
   "cell_type": "markdown",
   "id": "c653b983",
   "metadata": {
    "cell_id": "00028-6077503e-5c31-4973-a875-2a5f83a5a9b2",
    "deepnote_cell_height": 82,
    "deepnote_cell_type": "markdown"
   },
   "source": [
    "# Data Preparation"
   ]
  },
  {
   "cell_type": "markdown",
   "id": "1b16df44",
   "metadata": {
    "cell_id": "00029-5012909a-457a-4581-9c2a-7941ff5b5074",
    "deepnote_cell_height": 62,
    "deepnote_cell_type": "markdown"
   },
   "source": [
    "### Data Cleaning"
   ]
  },
  {
   "cell_type": "code",
   "execution_count": null,
   "id": "51967a4b",
   "metadata": {
    "cell_id": "00030-89191ce1-4165-48dc-b1d5-e4c08bcbb590",
    "deepnote_cell_height": 411.78125,
    "deepnote_cell_type": "code",
    "deepnote_to_be_reexecuted": false,
    "execution_millis": 158,
    "execution_start": 1650398306716,
    "scrolled": true,
    "source_hash": "c085b6ba"
   },
   "outputs": [],
   "source": [
    "df.head()"
   ]
  },
  {
   "cell_type": "markdown",
   "id": "09d5d0f9",
   "metadata": {},
   "source": [
    "### Feature Selection"
   ]
  },
  {
   "cell_type": "markdown",
   "id": "bfc83755",
   "metadata": {
    "cell_id": "00031-54fede66-7606-4f20-a9d4-63a6bfd6cb3b",
    "deepnote_cell_height": 74.78125,
    "deepnote_cell_type": "markdown"
   },
   "source": [
    "let's start with dropping the codes as these values won't be adding any information to our model's training knowing that the code columns have over 4000 missing values"
   ]
  },
  {
   "cell_type": "code",
   "execution_count": null,
   "id": "2e4cbeb8",
   "metadata": {
    "cell_id": "00032-ed7059f0-0b09-430f-968e-7d1c67657bea",
    "deepnote_cell_height": 81,
    "deepnote_cell_type": "code",
    "deepnote_to_be_reexecuted": false,
    "execution_millis": 1,
    "execution_start": 1650398306718,
    "source_hash": "2b2b1fd1"
   },
   "outputs": [],
   "source": [
    "df.drop([\"bpay_biller_code\",\"merchant_code\"],axis='columns',inplace = True)"
   ]
  },
  {
   "cell_type": "markdown",
   "id": "3fc46b02",
   "metadata": {
    "cell_id": "00033-a74414e7-3db4-4a8b-b657-774be2cc8132",
    "deepnote_cell_height": 52.375,
    "deepnote_cell_type": "markdown"
   },
   "source": [
    "We will also need to drop the Ids"
   ]
  },
  {
   "cell_type": "code",
   "execution_count": null,
   "id": "4d380b56",
   "metadata": {
    "cell_id": "00034-3967c787-6793-4e30-934f-874cf14beb3e",
    "deepnote_cell_height": 81,
    "deepnote_cell_type": "code",
    "deepnote_to_be_reexecuted": false,
    "execution_millis": 0,
    "execution_start": 1650398306730,
    "source_hash": "7a097aab"
   },
   "outputs": [],
   "source": [
    "df.drop([\"transaction_id\",\"customer_id\",\"merchant_id\"],axis='columns',inplace = True)"
   ]
  },
  {
   "cell_type": "markdown",
   "id": "d9d8139b",
   "metadata": {
    "cell_id": "00035-1ee71821-bc2c-4852-832e-98de24960aa2",
    "deepnote_cell_height": 74.78125,
    "deepnote_cell_type": "markdown"
   },
   "source": [
    "Since all of the transactions are in the AUD currency and the country is always australia we will not be needing these columns as well"
   ]
  },
  {
   "cell_type": "code",
   "execution_count": null,
   "id": "8d80721d",
   "metadata": {
    "cell_id": "00036-ce444ea9-f9de-4096-a814-c3915c48d725",
    "deepnote_cell_height": 81,
    "deepnote_cell_type": "code",
    "deepnote_to_be_reexecuted": false,
    "execution_millis": 2,
    "execution_start": 1650398306731,
    "source_hash": "424197ad"
   },
   "outputs": [],
   "source": [
    "df.drop([\"currency\",\"country\"],axis=\"columns\",inplace= True)"
   ]
  },
  {
   "cell_type": "markdown",
   "id": "9ad1d3af",
   "metadata": {
    "cell_id": "00037-47c09a84-7fa5-4056-a481-31866e4d0e5c",
    "deepnote_cell_height": 52.375,
    "deepnote_cell_type": "markdown"
   },
   "source": [
    "As long as we have the gender our model will not be in need of the names so we will drop the column as well"
   ]
  },
  {
   "cell_type": "code",
   "execution_count": null,
   "id": "10720f58",
   "metadata": {
    "cell_id": "00038-f5af13b7-a442-45fe-87d4-1cde9c75e185",
    "deepnote_cell_height": 81,
    "deepnote_cell_type": "code",
    "deepnote_to_be_reexecuted": false,
    "execution_millis": 0,
    "execution_start": 1650398306734,
    "source_hash": "17275762"
   },
   "outputs": [],
   "source": [
    "# df.drop(\"first_name\",axis=\"columns\",inplace=True)"
   ]
  },
  {
   "cell_type": "markdown",
   "id": "71e67674",
   "metadata": {
    "cell_id": "00039-3255bf0b-f6ce-469b-8145-fe4892c52b7f",
    "deepnote_cell_height": 52.375,
    "deepnote_cell_type": "markdown"
   },
   "source": [
    "We will also drop the acouunt reference as they are also code that will not contribute to the learning of our model"
   ]
  },
  {
   "cell_type": "code",
   "execution_count": null,
   "id": "b2d90ef2",
   "metadata": {
    "cell_id": "00040-a9041d09-f702-4908-be2a-aad3042dfbd9",
    "deepnote_cell_height": 81,
    "deepnote_cell_type": "code",
    "deepnote_to_be_reexecuted": false,
    "execution_millis": 1,
    "execution_start": 1650398306736,
    "source_hash": "59a008a0"
   },
   "outputs": [],
   "source": [
    "df.drop(\"account\",axis=\"columns\",inplace=True)"
   ]
  },
  {
   "cell_type": "code",
   "execution_count": null,
   "id": "ccace3c5",
   "metadata": {
    "cell_id": "00041-d2f7d698-94ff-4462-bacc-d6a716b3e6f7",
    "deepnote_cell_height": 411.78125,
    "deepnote_cell_type": "code",
    "deepnote_to_be_reexecuted": false,
    "execution_millis": 139,
    "execution_start": 1650398306738,
    "source_hash": "c085b6ba"
   },
   "outputs": [],
   "source": [
    "df.head()"
   ]
  },
  {
   "cell_type": "code",
   "execution_count": null,
   "id": "5a436cce",
   "metadata": {
    "cell_id": "00042-090aba82-50d1-4374-b17a-19c266001049",
    "deepnote_cell_height": 118.1875,
    "deepnote_cell_type": "code",
    "deepnote_to_be_reexecuted": false,
    "execution_millis": 456242,
    "execution_start": 1650398306741,
    "source_hash": "14f60b8f"
   },
   "outputs": [],
   "source": [
    "df.shape"
   ]
  },
  {
   "cell_type": "code",
   "execution_count": null,
   "id": "41e65562",
   "metadata": {
    "cell_id": "00043-eb5dcfed-4cd9-446e-a63f-79f216f3119c",
    "deepnote_cell_height": 406.1875,
    "deepnote_cell_type": "code",
    "deepnote_to_be_reexecuted": false,
    "execution_millis": 134,
    "execution_start": 1650398306743,
    "source_hash": "d794f466"
   },
   "outputs": [],
   "source": [
    "df.isna().sum()"
   ]
  },
  {
   "cell_type": "markdown",
   "id": "3fed4136",
   "metadata": {
    "cell_id": "00044-e13a154e-338c-4b4c-89f8-93d55dbebb5d",
    "deepnote_cell_height": 52.375,
    "deepnote_cell_type": "markdown"
   },
   "source": [
    " we have 4326 of nan values, we can not lose this amout of rows so let's impute those values"
   ]
  },
  {
   "cell_type": "markdown",
   "id": "3dd0218c",
   "metadata": {
    "cell_id": "00045-78529497-e35d-4cc3-85a5-be7bfe373f9e",
    "deepnote_cell_height": 62,
    "deepnote_cell_type": "markdown"
   },
   "source": [
    "### Data Imputation"
   ]
  },
  {
   "cell_type": "markdown",
   "id": "143edc0c",
   "metadata": {
    "cell_id": "00046-fd0a4f75-485c-49a0-815c-3c8080612883",
    "deepnote_cell_height": 54,
    "deepnote_cell_type": "markdown"
   },
   "source": [
    "#### The question here is whether our data is skewed or not ? let's visualize this for the card_present_flag"
   ]
  },
  {
   "cell_type": "code",
   "execution_count": null,
   "id": "8a62f94f",
   "metadata": {
    "cell_id": "00047-6ae3f2af-310b-4400-bcd5-6a987970347e",
    "deepnote_cell_height": 118.1875,
    "deepnote_cell_type": "code",
    "deepnote_to_be_reexecuted": false,
    "execution_millis": 131,
    "execution_start": 1650398306746,
    "source_hash": "61c82c9d"
   },
   "outputs": [],
   "source": [
    "df['card_present_flag'].unique()"
   ]
  },
  {
   "cell_type": "code",
   "execution_count": null,
   "id": "974f680b",
   "metadata": {
    "cell_id": "00048-47a050fd-e8e1-4dfa-82eb-73fa52d6cb5a",
    "deepnote_cell_height": 482.1875,
    "deepnote_cell_type": "code",
    "deepnote_to_be_reexecuted": false,
    "execution_millis": 456238,
    "execution_start": 1650398306748,
    "source_hash": "447877a6"
   },
   "outputs": [],
   "source": [
    "sns.displot(data=df,x=\"card_present_flag\",hue=\"gender\")"
   ]
  },
  {
   "cell_type": "code",
   "execution_count": null,
   "id": "11238828",
   "metadata": {
    "cell_id": "00049-4831b2a9-bb78-43d9-8d6c-6091bee4fdbd",
    "deepnote_cell_height": 482.1875,
    "deepnote_cell_type": "code",
    "deepnote_to_be_reexecuted": false,
    "execution_millis": 455536,
    "execution_start": 1650398306750,
    "source_hash": "4ed4cc5d"
   },
   "outputs": [],
   "source": [
    "sns.displot(data=df,x=\"merchant_state\",hue=\"gender\")"
   ]
  },
  {
   "cell_type": "markdown",
   "id": "92bca58e",
   "metadata": {
    "cell_id": "00052-51aaf542-6d38-4034-9c48-393e172463d9",
    "deepnote_cell_height": 239.375,
    "deepnote_cell_type": "markdown"
   },
   "source": [
    "<div class=\"alert alert-block alert-success\">\n",
    "    Exploring the columns with missing data  :\n",
    "    <ul>\n",
    "        <li>\n",
    "        <ul> we notice that the data is not normally distributed for all of the columns:\n",
    "            <li>for the card_present_flag we notice the number of 1 values exceeds highly the number of 0 values</li>\n",
    "            <li>for the merchant_state,merchant_suburb,merchant_long_lat we notice a high skewness in their distribution</li>\n",
    "        </ul>\n",
    "        </li>\n",
    "        <b><li> For this reason we will opt for a median data imputation for the merchant_state,Mode for the merchant_suburb, random values for merchant_long_lat and for a random imputation for the card_present_flag</li></b>\n",
    "    </ul>\n",
    "</div >"
   ]
  },
  {
   "cell_type": "markdown",
   "id": "1f7b8615",
   "metadata": {
    "cell_id": "00053-c7a98e09-8156-45a5-85a8-4264e4863658",
    "deepnote_cell_height": 46,
    "deepnote_cell_type": "markdown"
   },
   "source": []
  },
  {
   "cell_type": "markdown",
   "id": "c1fe9fab",
   "metadata": {
    "cell_id": "00054-64c195d4-f410-4373-ba4d-26fc2dfb5eb8",
    "deepnote_cell_height": 52.375,
    "deepnote_cell_type": "markdown"
   },
   "source": [
    "Random imputation for the card_present_flag"
   ]
  },
  {
   "cell_type": "code",
   "execution_count": null,
   "id": "f2ab3315",
   "metadata": {
    "cell_id": "00055-0bacd9d5-4408-4a36-babb-434ec4a5db27",
    "deepnote_cell_height": 98,
    "deepnote_cell_type": "code",
    "deepnote_to_be_reexecuted": false,
    "execution_millis": 126,
    "execution_start": 1650398306752,
    "scrolled": true,
    "source_hash": "a3cb1dd5"
   },
   "outputs": [],
   "source": [
    "df['card_present_flag'] = df['card_present_flag'].fillna(pd.Series(np.random.choice([0,1], size=len(df.index))))"
   ]
  },
  {
   "cell_type": "code",
   "execution_count": null,
   "id": "1787ff94",
   "metadata": {
    "cell_id": "00056-e0ab557e-d068-4384-a3e3-bf98bec2267b",
    "deepnote_cell_height": 118.1875,
    "deepnote_cell_type": "code",
    "deepnote_to_be_reexecuted": false,
    "execution_millis": 401711,
    "execution_start": 1650398306755,
    "scrolled": true,
    "source_hash": "42bb77e5"
   },
   "outputs": [],
   "source": [
    "df[\"card_present_flag\"].isna().sum()"
   ]
  },
  {
   "cell_type": "markdown",
   "id": "43e830c6",
   "metadata": {
    "cell_id": "00057-419fe87b-0f10-424e-9fdc-663976e8f03c",
    "deepnote_cell_height": 52.375,
    "deepnote_cell_type": "markdown"
   },
   "source": [
    "For the merchant state we can clearly notice a high skewness in the distribution and thus we will opt for median imputation"
   ]
  },
  {
   "cell_type": "code",
   "execution_count": null,
   "id": "5a084fa1",
   "metadata": {
    "cell_id": "00058-e9f5ab86-1941-47f2-b5e7-edc7bdf2d8b5",
    "deepnote_cell_height": 81,
    "deepnote_cell_type": "code",
    "deepnote_to_be_reexecuted": false,
    "execution_millis": 401690,
    "execution_start": 1650398306767,
    "source_hash": "196cc734"
   },
   "outputs": [],
   "source": [
    "merchant_state_freq = df['merchant_state'].value_counts()"
   ]
  },
  {
   "cell_type": "code",
   "execution_count": null,
   "id": "60e5790e",
   "metadata": {
    "cell_id": "00059-9f2ff3b2-d79f-4def-8441-58373b37564b",
    "deepnote_cell_height": 271.765625,
    "deepnote_cell_type": "code",
    "deepnote_to_be_reexecuted": false,
    "execution_millis": 401674,
    "execution_start": 1650398306770,
    "scrolled": true,
    "source_hash": "2285aa68"
   },
   "outputs": [],
   "source": [
    "merchant_state_freq"
   ]
  },
  {
   "cell_type": "code",
   "execution_count": null,
   "id": "8873da58",
   "metadata": {
    "cell_id": "00060-8062349c-1936-4363-9451-f99fb408aa3f",
    "deepnote_cell_height": 118.1875,
    "deepnote_cell_type": "code",
    "deepnote_to_be_reexecuted": false,
    "execution_millis": 401651,
    "execution_start": 1650398306779,
    "source_hash": "bc3fc41d"
   },
   "outputs": [],
   "source": [
    "merchant_state_freq.median()"
   ]
  },
  {
   "cell_type": "markdown",
   "id": "23a67490",
   "metadata": {
    "cell_id": "00061-7ab6ea7c-e53c-4e88-badd-d36862cf9faa",
    "deepnote_cell_height": 74.78125,
    "deepnote_cell_type": "markdown"
   },
   "source": [
    "the median value is betweeb the SA state and the WA state. let's opt for the WA state and let it be the value for the data imputation in the merchant_state column"
   ]
  },
  {
   "cell_type": "code",
   "execution_count": null,
   "id": "cef1ebf6",
   "metadata": {
    "cell_id": "00062-8ac0741f-382b-4808-8066-28b0b5021c73",
    "deepnote_cell_height": 81,
    "deepnote_cell_type": "code",
    "deepnote_to_be_reexecuted": false,
    "execution_millis": 93,
    "execution_start": 1650398306785,
    "source_hash": "8ebbb188"
   },
   "outputs": [],
   "source": [
    "df['merchant_state'].fillna(\"WA\",inplace= True)"
   ]
  },
  {
   "cell_type": "code",
   "execution_count": null,
   "id": "088076e0",
   "metadata": {
    "cell_id": "00063-401a4b8d-c8e2-4420-9b8b-2766ed26177b",
    "deepnote_cell_height": 118.1875,
    "deepnote_cell_type": "code",
    "deepnote_to_be_reexecuted": false,
    "execution_millis": 401606,
    "execution_start": 1650398306787,
    "scrolled": true,
    "source_hash": "8dcb9086"
   },
   "outputs": [],
   "source": [
    "df[\"merchant_state\"].isna().sum()"
   ]
  },
  {
   "cell_type": "markdown",
   "id": "37382ef6",
   "metadata": {
    "cell_id": "00064-d3c560bc-732f-4e27-b694-5afd3173b4d2",
    "deepnote_cell_height": 52.375,
    "deepnote_cell_type": "markdown"
   },
   "source": [
    "moving on to the imputation of the merchant_suburb for. in this case we will use the Mode to fill the missing values"
   ]
  },
  {
   "cell_type": "code",
   "execution_count": null,
   "id": "5fc39843",
   "metadata": {
    "cell_id": "00065-08a3bc76-4c6a-4ed8-8040-ae53842f1645",
    "deepnote_cell_height": 726,
    "deepnote_cell_type": "code",
    "deepnote_to_be_reexecuted": false,
    "execution_millis": 90,
    "execution_start": 1650398306789,
    "scrolled": true,
    "source_hash": "fab3fe0d"
   },
   "outputs": [],
   "source": [
    "merchant_suburb_freq = df[\"merchant_suburb\"].value_counts()\n",
    "merchant_suburb_freq"
   ]
  },
  {
   "cell_type": "code",
   "execution_count": null,
   "id": "f2b7ec02",
   "metadata": {
    "cell_id": "00066-178c639c-4e78-42dd-adf7-6fedee3cebf4",
    "deepnote_cell_height": 99,
    "deepnote_cell_type": "code",
    "deepnote_to_be_reexecuted": false,
    "execution_millis": 70,
    "execution_start": 1650398306810,
    "source_hash": "8c200a6d"
   },
   "outputs": [],
   "source": [
    "# imputation with mode\n",
    "df['merchant_suburb'].fillna(\"Melbourne\", inplace = True)"
   ]
  },
  {
   "cell_type": "code",
   "execution_count": null,
   "id": "6bc1c6cc",
   "metadata": {
    "cell_id": "00067-9aab156d-23b8-4370-828e-f8c71ba3f934",
    "deepnote_cell_height": 118.1875,
    "deepnote_cell_type": "code",
    "deepnote_to_be_reexecuted": false,
    "execution_millis": 401573,
    "execution_start": 1650398306819,
    "scrolled": false,
    "source_hash": "48c7ff83"
   },
   "outputs": [],
   "source": [
    "df[\"merchant_suburb\"].isna().sum()"
   ]
  },
  {
   "cell_type": "markdown",
   "id": "f33fa38a",
   "metadata": {
    "cell_id": "00068-91825512-4f5b-4fb3-9b71-35a9653a06bf",
    "deepnote_cell_height": 74.78125,
    "deepnote_cell_type": "markdown",
    "deepnote_to_be_reexecuted": false,
    "execution_start": 1650397905270,
    "source_hash": "e563b47c"
   },
   "source": [
    "Finally we will fill the missing merchant_long_lat values with random values of the existing data since these are longitudes and we can not have the same value for 4000 cells"
   ]
  },
  {
   "cell_type": "code",
   "execution_count": null,
   "id": "0472e0e2",
   "metadata": {
    "cell_id": "00069-852e3cfd-b26d-43e8-bfec-01b73814f286",
    "deepnote_cell_height": 81,
    "deepnote_cell_type": "code",
    "deepnote_to_be_reexecuted": false,
    "execution_millis": 39,
    "execution_start": 1650398306842,
    "source_hash": "1553263e"
   },
   "outputs": [],
   "source": [
    "merchant_long_lat_rand = df[\"merchant_long_lat\"].unique().tolist()"
   ]
  },
  {
   "cell_type": "code",
   "execution_count": null,
   "id": "5f6fcfbb",
   "metadata": {
    "cell_id": "00070-786f0c45-82cd-443c-9ab9-8d2f5fa69acf",
    "deepnote_cell_height": 116,
    "deepnote_cell_type": "code",
    "deepnote_to_be_reexecuted": false,
    "execution_millis": 379518,
    "execution_start": 1650398306846,
    "source_hash": "f85be6f2"
   },
   "outputs": [],
   "source": [
    "# filling the missing values of the merchant_long_lat with random not null existing values in the unique list prepared above\n",
    "df['merchant_long_lat'] = df['merchant_long_lat'].fillna(pd.Series(np.random.choice(merchant_long_lat_rand, size=len(df.index))))"
   ]
  },
  {
   "cell_type": "code",
   "execution_count": null,
   "id": "0962f945",
   "metadata": {
    "cell_id": "00071-cff2f8d8-a8ed-4f62-a4ee-ded5450758a1",
    "deepnote_cell_height": 411.78125,
    "deepnote_cell_type": "code",
    "deepnote_to_be_reexecuted": false,
    "execution_millis": 35,
    "execution_start": 1650398306847,
    "source_hash": "c085b6ba"
   },
   "outputs": [],
   "source": [
    "df.head()"
   ]
  },
  {
   "cell_type": "code",
   "execution_count": null,
   "id": "d33e7b87",
   "metadata": {
    "cell_id": "00072-db413a6e-8018-413c-bcf0-ce31768b57d0",
    "deepnote_cell_height": 406.1875,
    "deepnote_cell_type": "code",
    "deepnote_to_be_reexecuted": false,
    "execution_millis": 33,
    "execution_start": 1650398306850,
    "source_hash": "d794f466"
   },
   "outputs": [],
   "source": [
    "df.isna().sum()"
   ]
  },
  {
   "cell_type": "markdown",
   "id": "013ddce5",
   "metadata": {
    "cell_id": "00073-ffc178e3-6941-46d6-96ce-7f685ed90289",
    "deepnote_cell_height": 52.375,
    "deepnote_cell_type": "markdown"
   },
   "source": [
    "Now we have finished the data imputation in all of the 4 columns and we have 0 Nan values"
   ]
  },
  {
   "cell_type": "markdown",
   "id": "184431b3",
   "metadata": {
    "cell_id": "00074-93cd825b-fe1d-4054-9974-dd56eff63d74",
    "deepnote_cell_height": 62,
    "deepnote_cell_type": "markdown"
   },
   "source": [
    "### Feature Engineering"
   ]
  },
  {
   "cell_type": "markdown",
   "id": "2c5d0bd1",
   "metadata": {},
   "source": [
    "As features, we will be creating the annual salary feature, separating the date in to day month and year and also separating the longitude and latitude"
   ]
  },
  {
   "cell_type": "markdown",
   "id": "421c1758",
   "metadata": {},
   "source": [
    "#### Date Engineering"
   ]
  },
  {
   "cell_type": "markdown",
   "id": "6d02cd5a",
   "metadata": {},
   "source": [
    "the date is in the format of yyyy-mm-dd so we will create three features for each"
   ]
  },
  {
   "cell_type": "code",
   "execution_count": null,
   "id": "f39355a2",
   "metadata": {},
   "outputs": [],
   "source": [
    "def extract_date(df):\n",
    "    #extracting year, month, day\n",
    "    for i in range(len(df)):\n",
    "        dates = df[\"date\"]\n",
    "        date = dates[i].to_pydatetime().date()\n",
    "        year = date.year\n",
    "        month = date.month\n",
    "        day = date.day\n",
    "        \n",
    "    #affecting the values to columns\n",
    "        df.loc[i,'year'] = year\n",
    "        df.loc[i,'month'] = month\n",
    "        df.loc[i,'day'] = day\n",
    "    return df\n",
    "        \n",
    "        "
   ]
  },
  {
   "cell_type": "code",
   "execution_count": null,
   "id": "9a495a08",
   "metadata": {},
   "outputs": [],
   "source": [
    "df = extract_date(df)"
   ]
  },
  {
   "cell_type": "code",
   "execution_count": null,
   "id": "6c14adf9",
   "metadata": {},
   "outputs": [],
   "source": [
    "df.drop(columns=\"date\",inplace=True)"
   ]
  },
  {
   "cell_type": "code",
   "execution_count": null,
   "id": "da231f17",
   "metadata": {
    "scrolled": true
   },
   "outputs": [],
   "source": [
    "df.head()"
   ]
  },
  {
   "cell_type": "code",
   "execution_count": null,
   "id": "41f5fe85",
   "metadata": {
    "scrolled": false
   },
   "outputs": [],
   "source": [
    "fig = px.histogram(df, x=\"year\", y=\"amount\",\n",
    "             color='first_name', barmode='group',\n",
    "             height=400)\n",
    "fig.show()"
   ]
  },
  {
   "cell_type": "markdown",
   "id": "8a9b7955",
   "metadata": {},
   "source": [
    "<div class=\"alert alert-block alert-info\">\n",
    "    Through this graph we can get a clear understanding of the amount of transactions conducted by each customer in the date range we have in the dataset\n",
    "</div>"
   ]
  },
  {
   "cell_type": "markdown",
   "id": "33802ac1",
   "metadata": {},
   "source": [
    "#### Extraction time engineering"
   ]
  },
  {
   "cell_type": "markdown",
   "id": "518bc73d",
   "metadata": {},
   "source": [
    "we will extract now only the hours minutes and seconds HH:MM:SS only from the extraction feature"
   ]
  },
  {
   "cell_type": "code",
   "execution_count": null,
   "id": "00dc1717",
   "metadata": {},
   "outputs": [],
   "source": [
    "def extraction_time(df):\n",
    "    extraction_times = df[\"extraction\"]\n",
    "    for i in range(len(df)):\n",
    "        extraction_time = df[\"extraction\"][i]\n",
    "        new_format_extraction = extraction_time[11:19]\n",
    "        df.loc[i,\"extraction\"] = new_format_extraction\n",
    "    \n",
    "    return df"
   ]
  },
  {
   "cell_type": "code",
   "execution_count": null,
   "id": "c6bc5ef1",
   "metadata": {},
   "outputs": [],
   "source": [
    "df = extraction_time(df)"
   ]
  },
  {
   "cell_type": "code",
   "execution_count": null,
   "id": "e4194c15",
   "metadata": {
    "scrolled": true
   },
   "outputs": [],
   "source": [
    "df.head()"
   ]
  },
  {
   "cell_type": "markdown",
   "id": "70255b31",
   "metadata": {},
   "source": [
    "#### Longitude latitude engineering"
   ]
  },
  {
   "cell_type": "markdown",
   "id": "ffa3ad50",
   "metadata": {},
   "source": [
    "We will now separate the longitude and latitude for both the marchant and the customer"
   ]
  },
  {
   "cell_type": "code",
   "execution_count": null,
   "id": "520935e8",
   "metadata": {},
   "outputs": [],
   "source": [
    "df.head()"
   ]
  },
  {
   "cell_type": "code",
   "execution_count": null,
   "id": "d14a8117",
   "metadata": {
    "scrolled": true
   },
   "outputs": [],
   "source": [
    "df[\"long_lat\"]"
   ]
  },
  {
   "cell_type": "code",
   "execution_count": null,
   "id": "28639db4",
   "metadata": {},
   "outputs": [],
   "source": [
    "def long_lat_sep(df):\n",
    "    \n",
    "    customer_long_lat_list = df[\"long_lat\"].tolist()\n",
    "    merchant_long_lat_list = df[\"merchant_long_lat\"].tolist()\n",
    "    \n",
    "    for i in range(len(df)):\n",
    "        # separating customer longitude and latitude and affecting them into separate columns\n",
    "\n",
    "        customer_long_lat = customer_long_lat_list[i].replace(\"-\",' ')\n",
    "        customer_long = customer_long_lat[0:6]    \n",
    "        customer_lat = customer_long_lat[8:]\n",
    "        df.loc[i,\"customer_long\"] = customer_long.strip(\" \")\n",
    "        df.loc[i,\"customer_lat\"] = customer_lat.strip(\" \")\n",
    "        \n",
    "        # separating merchant longitude and latitude and affecting them into separate columns\n",
    "        merchant_long_lat = merchant_long_lat_list[i].replace(\"-\",' ')\n",
    "        merchant_long = merchant_long_lat[0:6]\n",
    "        merchant_lat = merchant_long_lat[8:]\n",
    "        df.loc[i,\"merchant_long\"] =merchant_long.strip(\" \")\n",
    "        df.loc[i,\"merchant_lat\"] =merchant_lat.strip(\" \")\n",
    "    return df"
   ]
  },
  {
   "cell_type": "code",
   "execution_count": null,
   "id": "0e557d81",
   "metadata": {},
   "outputs": [],
   "source": [
    "# import re\n",
    "# def long_lat_sep2(df):\n",
    "    \n",
    "#     customer_long_lat_list = df[\"long_lat\"].tolist()\n",
    "#     merchant_long_lat_list = df[\"merchant_long_lat\"].tolist()\n",
    "    \n",
    "#     for i in range(len(df)):\n",
    "#         # separating customer longitude and latitude and affecting them into separate columns\n",
    "\n",
    "        \n",
    "#         customer_long_lat = customer_long_lat_list[i]\n",
    "#         customer_long = re.findall(r'\\d+\\.\\d+', customer_long_lat)[0]    \n",
    "#         customer_lat = re.findall(r'\\d+\\.\\d+', customer_long_lat)[1] \n",
    "#         print(customer_long)\n",
    "#         print(customer_lat)\n",
    "#         df.loc[i,\"customer_long\"] = float(customer_long)\n",
    "#         df.loc[i,\"customer_lat\"] = float(customer_lat)\n",
    "        \n",
    "#         # separating merchant longitude and latitude and affecting them into separate columns\n",
    "#         merchant_long_lat = merchant_long_lat_list[i]\n",
    "#         merchant_long = re.findall(r'\\d+\\.\\d+', merchant_long_lat)[0]  \n",
    "#         merchant_lat = re.findall(r'\\d+\\.\\d+', merchant_long_lat)[1]  \n",
    "#         df.loc[i,\"merchant_long\"] = float(merchant_long)\n",
    "#         df.loc[i,\"merchant_lat\"] = float(merchant_lat)\n",
    "#     return df"
   ]
  },
  {
   "cell_type": "code",
   "execution_count": null,
   "id": "95f20ccc",
   "metadata": {
    "scrolled": true
   },
   "outputs": [],
   "source": [
    "df = long_lat_sep(df)"
   ]
  },
  {
   "cell_type": "code",
   "execution_count": null,
   "id": "87e0dde4",
   "metadata": {},
   "outputs": [],
   "source": [
    "df.drop(columns=[\"merchant_long_lat\",\"long_lat\"],inplace=True)"
   ]
  },
  {
   "cell_type": "code",
   "execution_count": null,
   "id": "0be2d965",
   "metadata": {
    "scrolled": true
   },
   "outputs": [],
   "source": [
    "df.head()"
   ]
  },
  {
   "cell_type": "markdown",
   "id": "94cf921e",
   "metadata": {},
   "source": [
    "<div class=\"alert alert-block alert-warning\">\n",
    "As we can see in the distribution of the weekly salaries follows no precise pattern in the dates we have in the dataset and this is why we will opt for an average weekly salary for each customer during these 3 months to determine later the annual salary\n",
    "</div>"
   ]
  },
  {
   "cell_type": "markdown",
   "id": "f2ac3787",
   "metadata": {
    "cell_id": "00075-a5d76501-1fc8-414a-a176-e1778d6171e8",
    "deepnote_cell_height": 74.78125,
    "deepnote_cell_type": "markdown"
   },
   "source": [
    "<div class=\"alert alert-block alert-success\">\n",
    "Now we will then move to extracting the annual salary of each customer. We actually have the transactions of the salary payment weekly in the range of the dates that we have  and in order to calculate the annual salary we will create a feature containing the weekly salary times 52 ( number of weeks in a year)\n",
    "</div>"
   ]
  },
  {
   "cell_type": "code",
   "execution_count": null,
   "id": "d7f12268",
   "metadata": {
    "cell_id": "00076-bb24c114-4ba1-47e1-9f19-4d919782a5c6",
    "deepnote_cell_height": 675,
    "deepnote_cell_type": "code",
    "deepnote_to_be_reexecuted": false,
    "execution_millis": 1,
    "execution_start": 1650398306852,
    "source_hash": "c9a0dde6"
   },
   "outputs": [],
   "source": [
    "# # extracting the salaries of each \n",
    "# def customer_salaries(df):\n",
    "#     customer_names = df[\"first_name\"].unique()\n",
    "#     customer_salaries = {}\n",
    "#     # iterating over the dataset and the names of the customers\n",
    "#     for i in df.index:\n",
    "#         for j in customer_names:\n",
    "#             #making sure that we insert the salary of a customer only once in the dictionary\n",
    "#             if j not in customer_salaries.keys():\n",
    "#                 print(\"into the if and calculating salary\")\n",
    "#                 #extracting the average annual salary which is weekly salary of a customer * 52\n",
    "#                 condition = (df[\"txn_description\"]==\"PAY/SALARY\") & (df[\"first_name\"] == j) \n",
    "#                 list_salaries = df.loc[condition,\"amount\"].tolist()\n",
    "# #                 counter =0\n",
    "# #                 while counter < len(list_salaries):\n",
    "# #                 salary = (2*(list_salaries[counter]+list_salaries[counter+1]))\n",
    "#                 salary  = (sum(list_salaries)/len(list_salaries))*52\n",
    "# #                 if (df.loc[i,\"first_name\"]==j) & (df.loc[i,\"txn_description\"]==\"PAY/SALARY\"):\n",
    "# #                     salary = 2*(df.loc[i,\"amount\"]+df.loc[i+1,\"amount\"])\n",
    "# #                         salary = df.loc[i+1,\"amount\"]\n",
    "#                 print(\"annual average salary of {0} is {1}\".format(j,salary))\n",
    "# #                 counter+=1\n",
    "#                 customer_salaries[j] = salary\n",
    "#                 print(customer_salaries[j])\n",
    "    \n",
    "# #   return customer_salaries\n",
    "#     #Creating a new column in our dataframe named \" Annual Salary\"\n",
    "#     df[\"Annual Salary\"] = \" \"\n",
    "#     #filling this column with the corresponding values with salary for each customer\n",
    "#     for i in range(len(df)):\n",
    "#         for name in list(customer_salaries.keys()):\n",
    "#              if df.loc[i,\"first_name\"] == name:\n",
    "#                 print(\" first_name is {0} and name in the dictionary is {1} \\n their average annual salary is {2} \".format(df.loc[i,\"first_name\"],name,customer_salaries[name]))\n",
    "#                 df.loc[i,\"Annual Salary\"] = customer_salaries[name]\n",
    "    \n",
    "#     return df\n",
    "        \n",
    "    \n",
    "    "
   ]
  },
  {
   "cell_type": "code",
   "execution_count": null,
   "id": "44b7b22a",
   "metadata": {},
   "outputs": [],
   "source": [
    "# extracting the salaries of each \n",
    "def customer_salaries(df):\n",
    "    customer_names = df[\"first_name\"].unique()\n",
    "    customer_salaries = {}\n",
    "    # iterating over the dataset and the names of the customers\n",
    "    for i in df.index:\n",
    "        for j in customer_names:\n",
    "            #making sure that we insert the salary of a customer only once in the dictionary\n",
    "            if j not in customer_salaries.keys():\n",
    "                #extracting the average annual salary which is weekly salary of a customer * 52\n",
    "                condition = (df[\"txn_description\"]==\"PAY/SALARY\") & (df[\"first_name\"] == j) \n",
    "                list_salaries = df.loc[condition,\"amount\"].tolist()\n",
    "                salary  = (sum(list_salaries)/len(list_salaries))*52\n",
    "                print(\"annual average salary of {0} is {1}\".format(j,salary))\n",
    "                customer_salaries[j] = salary\n",
    "    \n",
    "    \n",
    "    #Creating a new column in our dataframe named \" Annual Salary\"\n",
    "    df[\"Annual Salary\"] = \" \"\n",
    "    #filling this column with the corresponding values with salary for each customer\n",
    "    for i in range(len(df)):\n",
    "        for name in list(customer_salaries.keys()):\n",
    "             if df.loc[i,\"first_name\"] == name:\n",
    "                print(\" first_name is {0} and name in the dictionary is {1} \\n their average annual salary is {2} \".format(df.loc[i,\"first_name\"],name,customer_salaries[name]))\n",
    "                df.loc[i,\"Annual Salary\"] = customer_salaries[name]\n",
    "    \n",
    "    return df\n",
    "        "
   ]
  },
  {
   "cell_type": "code",
   "execution_count": null,
   "id": "33fbc6de",
   "metadata": {
    "cell_id": "00077-c7762ad2-3c48-426b-b4ff-02c585aeb139",
    "deepnote_cell_height": 923.1875,
    "deepnote_cell_type": "code",
    "deepnote_to_be_reexecuted": false,
    "execution_millis": 150441,
    "execution_start": 1650398306855,
    "owner_user_id": "bd969106-6de4-45b4-9bdc-b9ab2ce5c7e3",
    "source_hash": "e1ffa010"
   },
   "outputs": [],
   "source": [
    "# condition = (df[\"txn_description\"]==\"PAY/SALARY\") & (df[\"first_name\"] == \"Michael\")\n",
    "# x = df.loc[condition,\"amount\"]\n",
    "# x= x.tolist()\n",
    "# type(x)\n",
    "# counter  = 0\n",
    "# while counter < len(x)-1:\n",
    "#     s = x[counter]+x[counter+1]\n",
    "#     counter+=1\n",
    "#     print(s)"
   ]
  },
  {
   "cell_type": "code",
   "execution_count": null,
   "id": "ed5cdab4",
   "metadata": {
    "cell_id": "00079-5cd0c96d-3d6b-4c86-abf4-4b8c717a07b7",
    "deepnote_cell_height": 81,
    "deepnote_cell_type": "code",
    "deepnote_to_be_reexecuted": true,
    "source_hash": "e5459111"
   },
   "outputs": [],
   "source": [
    "df.reset_index(drop=True,inplace=True)"
   ]
  },
  {
   "cell_type": "code",
   "execution_count": null,
   "id": "81da13a8",
   "metadata": {
    "cell_id": "00080-a8127488-756b-48e7-a930-5689898dfefa",
    "deepnote_cell_height": 81,
    "deepnote_cell_type": "code",
    "deepnote_to_be_reexecuted": true,
    "scrolled": true,
    "source_hash": "9b6bd9ba"
   },
   "outputs": [],
   "source": [
    "df = customer_salaries(df)"
   ]
  },
  {
   "cell_type": "code",
   "execution_count": null,
   "id": "2a025a1c",
   "metadata": {
    "scrolled": true
   },
   "outputs": [],
   "source": [
    "df.head(50)"
   ]
  },
  {
   "cell_type": "code",
   "execution_count": null,
   "id": "7665e77d",
   "metadata": {},
   "outputs": [],
   "source": [
    "len(df[\"txn_description\"].unique())\n"
   ]
  },
  {
   "cell_type": "code",
   "execution_count": null,
   "id": "96c98e99",
   "metadata": {},
   "outputs": [],
   "source": [
    "df[\"merchant_suburb\"].unique()"
   ]
  },
  {
   "cell_type": "markdown",
   "id": "38d2567e",
   "metadata": {},
   "source": [
    "##### Let's visualize our data through the new features that we have added"
   ]
  },
  {
   "cell_type": "code",
   "execution_count": null,
   "id": "566d76b2",
   "metadata": {},
   "outputs": [],
   "source": [
    "# # px.set_mapbox_access_token(open(\".mapbox_token\").read())\n",
    "# # df = px.data.carshare()\n",
    "# fig = px.scatter_mapbox(df, lat=\"customer_lat\", lon=\"customer_long\", color=\"gender\", size=\"amount\",\n",
    "#                   color_continuous_scale=px.colors.cyclical.IceFire, size_max=15, zoom=10)\n",
    "# fig.show()"
   ]
  },
  {
   "cell_type": "markdown",
   "id": "468d4b5d",
   "metadata": {
    "cell_id": "00083-b69c694f-509b-4c92-94c1-6a889136fb08",
    "deepnote_cell_height": 62,
    "deepnote_cell_type": "markdown"
   },
   "source": [
    "### Outliers Handling "
   ]
  },
  {
   "cell_type": "code",
   "execution_count": null,
   "id": "717d0c67",
   "metadata": {
    "cell_id": "00084-6236685e-8ffd-4947-9a0f-b5fcef246b9c",
    "deepnote_cell_height": 81,
    "deepnote_cell_type": "code",
    "deepnote_to_be_reexecuted": true,
    "source_hash": "c765c576"
   },
   "outputs": [],
   "source": [
    "sns.pairplot(data=df, hue=\"gender\")"
   ]
  },
  {
   "cell_type": "markdown",
   "id": "cbdb15ac",
   "metadata": {
    "cell_id": "00085-bfb0fde7-c6cd-48a0-b235-9b6417166a23",
    "deepnote_cell_height": 273.1875,
    "deepnote_cell_type": "markdown"
   },
   "source": [
    "<div class=\"alert alert-block alert-info\">\n",
    "    Exploring the pairplots we can notice the following outliers :\n",
    "    <ul>\n",
    "        <li>  the presence of 4 transactions made by individuals with ages between 30 and 40 with amounts over 6000 which is of no weight compared to the density in this range of age. We need to delete these 4 rows </li>\n",
    "        <li>comparing the balance to the amounts we notice also the presence of four transactions with amounts over 8000 with balances close to 100000 and this will create an imbalanced understanding of the model to our data </li>\n",
    "        <li> A transaction with a card_present_flag equal to 0 and with an amount of 8000 compared to the density under 6000 as well as another one with a value equal to one</li>\n",
    "        <li> <b>We will handle those outliers and delete them in order to keep our dataset balanced</b></li>\n",
    "    </ul>\n",
    "</div >"
   ]
  },
  {
   "cell_type": "markdown",
   "id": "1b1004cc",
   "metadata": {},
   "source": [
    "<div class=\"alert alert-block alert-info\">\n",
    "We notice also the presence of outliers of customers with annual salaries over 400k. we need that info and thus we will keep it\n",
    "</div >"
   ]
  },
  {
   "cell_type": "code",
   "execution_count": null,
   "id": "b7a5e7e4",
   "metadata": {},
   "outputs": [],
   "source": [
    "df.shape"
   ]
  },
  {
   "cell_type": "code",
   "execution_count": null,
   "id": "0fa7b622",
   "metadata": {
    "cell_id": "00086-1f2ce6b3-78b7-4b00-92a8-ea15ab2eb1c1",
    "deepnote_cell_height": 81,
    "deepnote_cell_type": "code",
    "deepnote_to_be_reexecuted": true,
    "source_hash": "88c16979"
   },
   "outputs": [],
   "source": [
    "df.loc[ (df[\"amount\"]< 8000)].shape"
   ]
  },
  {
   "cell_type": "code",
   "execution_count": null,
   "id": "67660616",
   "metadata": {
    "cell_id": "00088-324a8eb7-9da3-447c-8d4a-ec40624c8e4f",
    "deepnote_cell_height": 66,
    "deepnote_cell_type": "code",
    "deepnote_to_be_reexecuted": true,
    "source_hash": "3c849ecb"
   },
   "outputs": [],
   "source": [
    "df =df.loc[ (df[\"amount\"]< 5800)]"
   ]
  },
  {
   "cell_type": "code",
   "execution_count": null,
   "id": "10441126",
   "metadata": {},
   "outputs": [],
   "source": [
    "df =df.loc[ (df[\"amount\"]< 5800)]"
   ]
  },
  {
   "cell_type": "code",
   "execution_count": null,
   "id": "48ed12bf",
   "metadata": {},
   "outputs": [],
   "source": [
    "df.shape"
   ]
  },
  {
   "cell_type": "code",
   "execution_count": null,
   "id": "67c02442",
   "metadata": {
    "cell_id": "00089-aefc5144-5a86-4e41-9179-f252b5a74e5b",
    "deepnote_cell_height": 66,
    "deepnote_cell_type": "code",
    "deepnote_to_be_reexecuted": true,
    "source_hash": "c765c576"
   },
   "outputs": [],
   "source": [
    "sns.pairplot(data=df, hue=\"gender\")"
   ]
  },
  {
   "cell_type": "markdown",
   "id": "f212fe4d",
   "metadata": {
    "cell_id": "00090-67a62224-d7ae-4381-acfc-dc20a2846c5f",
    "deepnote_cell_height": 52.375,
    "deepnote_cell_type": "markdown"
   },
   "source": [
    "Now we have handled the outliers let's move on to preparing our data for the modelling"
   ]
  },
  {
   "cell_type": "markdown",
   "id": "c62d3fde",
   "metadata": {},
   "source": [
    "### Data Encoding"
   ]
  },
  {
   "cell_type": "markdown",
   "id": "300006f7",
   "metadata": {},
   "source": [
    "##### Encoding our data into numeric values will allow our model to perform better as it only understands numeric values"
   ]
  },
  {
   "cell_type": "markdown",
   "id": "79b22f50",
   "metadata": {},
   "source": [
    "we will not be encoding the whole dataset. we will use <b> One Hot encoding</b> for the transaction description,gender and movement columns"
   ]
  },
  {
   "cell_type": "code",
   "execution_count": null,
   "id": "27b051ea",
   "metadata": {
    "scrolled": true
   },
   "outputs": [],
   "source": [
    "df.head()"
   ]
  },
  {
   "cell_type": "code",
   "execution_count": null,
   "id": "e5d428cf",
   "metadata": {},
   "outputs": [],
   "source": [
    "def onehot_encode(df, column_dict):\n",
    "    for column, prefix in column_dict.items():\n",
    "        dummies = pd.get_dummies(df[column], prefix=prefix)\n",
    "        df = pd.concat([df, dummies], axis=1)\n",
    "        df = df.drop(column, axis=1)\n",
    "    return df"
   ]
  },
  {
   "cell_type": "code",
   "execution_count": null,
   "id": "5318a916",
   "metadata": {},
   "outputs": [],
   "source": [
    "df = onehot_encode(df,\n",
    "             {\n",
    "                 'txn_description': 'transaction_desc_',\n",
    "                 'gender': 'gender',\n",
    "                 'merchant_state': 'merchant_state_',\n",
    "                 'status': 'status_',\n",
    "                 'movement':'movement_'\n",
    "             })"
   ]
  },
  {
   "cell_type": "markdown",
   "id": "6c2ac41d",
   "metadata": {
    "cell_id": "00091-719f8524-d09c-442d-9560-a7172f2c33c7",
    "deepnote_cell_height": 62,
    "deepnote_cell_type": "markdown"
   },
   "source": [
    "### Feature Normalization"
   ]
  },
  {
   "cell_type": "code",
   "execution_count": null,
   "id": "9b7c67c9",
   "metadata": {},
   "outputs": [],
   "source": [
    "# col_to_norm =[\"age\",\"balance\",\"amount\",\"year\",\"month\",\"day\",\"customer_long\",\"customer_lat\",\"merchant_long\",\"merchant_lat\"]\n",
    "col_to_norm =[\"age\",\"balance\",\"amount\",\"year\",\"month\",\"day\"]"
   ]
  },
  {
   "cell_type": "code",
   "execution_count": null,
   "id": "a15ca9af",
   "metadata": {
    "cell_id": "00093-ac9ab7a8-286f-45fb-8f84-364700e50635",
    "deepnote_cell_height": 66,
    "deepnote_cell_type": "code",
    "deepnote_to_be_reexecuted": true,
    "source_hash": "b623e53d"
   },
   "outputs": [],
   "source": [
    "def featureSelect(df_x):\n",
    "    return df_x.drop(['Annual Salary'], axis=1), df_x['Annual Salary']"
   ]
  },
  {
   "cell_type": "code",
   "execution_count": null,
   "id": "c2437dcc",
   "metadata": {},
   "outputs": [],
   "source": [
    "def Normalization(X, scaler=\"minmax\"):\n",
    "    if scaler.upper() == \"STANDARD\":\n",
    "        stand = StandardScaler()\n",
    "        X_s = stand.fit_transform(X)\n",
    "        return X_s\n",
    "    else:\n",
    "        minmax = MinMaxScaler()\n",
    "        X_mm = minmax.fit_transform(X)\n",
    "        return X_mm"
   ]
  },
  {
   "cell_type": "code",
   "execution_count": null,
   "id": "2c1a21d5",
   "metadata": {},
   "outputs": [],
   "source": [
    "X, y = featureSelect(df)"
   ]
  },
  {
   "cell_type": "code",
   "execution_count": null,
   "id": "0fac8b9a",
   "metadata": {},
   "outputs": [],
   "source": [
    "X_train, X_test, y_train, y_test = train_test_split(X, y, random_state=42, test_size=0.2)"
   ]
  },
  {
   "cell_type": "code",
   "execution_count": null,
   "id": "9839a2fa",
   "metadata": {},
   "outputs": [],
   "source": [
    "X_train[col_to_norm]= Normalization(X_train[col_to_norm], scaler=\"standard\")\n",
    "X_test[col_to_norm]= Normalization(X_test[col_to_norm], scaler=\"standard\")"
   ]
  },
  {
   "cell_type": "markdown",
   "id": "79218026",
   "metadata": {
    "created_in_deepnote_cell": true,
    "deepnote_cell_type": "markdown",
    "tags": []
   },
   "source": [
    "## <!-- <a style='text-decoration:none;line-height:16px;display:flex;color:#5B5B62;padding:10px;justify-content:end;' href='https://deepnote.com?utm_source=created-in-deepnote-cell&projectId=63aa1e1d-14f8-4dc8-a516-1f254526fa1a' target=\"_blank\">\n",
    "<img alt='Created in deepnote.com' style='display:inline;max-height:16px;margin:0px;margin-right:7.5px;' src='data:image/svg+xml;base64,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' > </img>\n",
    "Created in <span style='font-weight:600;margin-left:4px;'>Deepnote</span></a> -->"
   ]
  },
  {
   "cell_type": "markdown",
   "id": "5e5c448a",
   "metadata": {},
   "source": [
    "## Modelling"
   ]
  },
  {
   "cell_type": "code",
   "execution_count": null,
   "id": "ed6b1bc5",
   "metadata": {},
   "outputs": [],
   "source": []
  }
 ],
 "metadata": {
  "deepnote": {},
  "deepnote_execution_queue": [],
  "deepnote_notebook_id": "48ffe2a7-3c01-4264-bd3c-215212ee65f5",
  "kernelspec": {
   "display_name": "Python 3 (ipykernel)",
   "language": "python",
   "name": "python3"
  },
  "language_info": {
   "codemirror_mode": {
    "name": "ipython",
    "version": 3
   },
   "file_extension": ".py",
   "mimetype": "text/x-python",
   "name": "python",
   "nbconvert_exporter": "python",
   "pygments_lexer": "ipython3",
   "version": "3.8.12"
  }
 },
 "nbformat": 4,
 "nbformat_minor": 5
}
